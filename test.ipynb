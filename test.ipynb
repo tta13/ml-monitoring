{
 "cells": [
  {
   "attachments": {},
   "cell_type": "markdown",
   "metadata": {},
   "source": [
    "# Monitoramento de modelos de machine learning"
   ]
  },
  {
   "attachments": {},
   "cell_type": "markdown",
   "metadata": {},
   "source": [
    "## 1.1 Performance e volumetria\n",
    "Utilizando a lista de registros presente no JSON ./batch_records.json realizo uma requisição POST ao endpoint de performance."
   ]
  },
  {
   "cell_type": "code",
   "execution_count": 1,
   "metadata": {},
   "outputs": [],
   "source": [
    "from requests import post\n",
    "import numpy as np\n",
    "import json"
   ]
  },
  {
   "cell_type": "code",
   "execution_count": 2,
   "metadata": {},
   "outputs": [],
   "source": [
    "RECORDS_PATH = 'batch_records.json'\n",
    "API_PATH = 'http://localhost:8001'"
   ]
  },
  {
   "cell_type": "code",
   "execution_count": 3,
   "metadata": {},
   "outputs": [],
   "source": [
    "with open('batch_records.json', 'r') as file:\n",
    "  records = json.load(file)"
   ]
  },
  {
   "cell_type": "code",
   "execution_count": 4,
   "metadata": {},
   "outputs": [],
   "source": [
    "response = post(f'{API_PATH}/v1/performance/', json=records)\n",
    "response.close()\n",
    "performance = response.json()"
   ]
  },
  {
   "attachments": {},
   "cell_type": "markdown",
   "metadata": {},
   "source": [
    "Obervando a resposta, a qual contém uma lista de objetos contendo o mês e seus respectivos volumetria e performance"
   ]
  },
  {
   "cell_type": "code",
   "execution_count": 5,
   "metadata": {},
   "outputs": [
    {
     "data": {
      "text/plain": [
       "[{'mes': 1, 'volumetria': 58, 'performance': 0.4941972920696325},\n",
       " {'mes': 2, 'volumetria': 55, 'performance': 0.6184668989547037},\n",
       " {'mes': 3, 'volumetria': 62, 'performance': 0.5427807486631016},\n",
       " {'mes': 4, 'volumetria': 49, 'performance': 0.4423076923076923},\n",
       " {'mes': 5, 'volumetria': 67, 'performance': 0.6529649595687332},\n",
       " {'mes': 6, 'volumetria': 63, 'performance': 0.5524781341107872},\n",
       " {'mes': 7, 'volumetria': 74, 'performance': 0.5971751412429378},\n",
       " {'mes': 8, 'volumetria': 72, 'performance': 0.6140350877192982}]"
      ]
     },
     "execution_count": 5,
     "metadata": {},
     "output_type": "execute_result"
    }
   ],
   "source": [
    "performance"
   ]
  }
 ],
 "metadata": {
  "kernelspec": {
   "display_name": ".venv",
   "language": "python",
   "name": "python3"
  },
  "language_info": {
   "codemirror_mode": {
    "name": "ipython",
    "version": 3
   },
   "file_extension": ".py",
   "mimetype": "text/x-python",
   "name": "python",
   "nbconvert_exporter": "python",
   "pygments_lexer": "ipython3",
   "version": "3.9.13"
  },
  "orig_nbformat": 4
 },
 "nbformat": 4,
 "nbformat_minor": 2
}
