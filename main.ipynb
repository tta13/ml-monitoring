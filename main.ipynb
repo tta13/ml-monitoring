{
 "cells": [
  {
   "attachments": {},
   "cell_type": "markdown",
   "metadata": {},
   "source": [
    "# Monitoramento de modelos de machine learning"
   ]
  },
  {
   "cell_type": "code",
   "execution_count": 1,
   "metadata": {},
   "outputs": [],
   "source": [
    "API_PATH = 'http://localhost:8001'"
   ]
  },
  {
   "attachments": {},
   "cell_type": "markdown",
   "metadata": {},
   "source": [
    "## 1.1 Performance e volumetria\n",
    "Utilizando a lista de registros presente no JSON ./batch_records.json realizo uma requisição POST ao endpoint de performance."
   ]
  },
  {
   "cell_type": "code",
   "execution_count": 2,
   "metadata": {},
   "outputs": [],
   "source": [
    "from requests import post\n",
    "import numpy as np\n",
    "import json"
   ]
  },
  {
   "cell_type": "code",
   "execution_count": 3,
   "metadata": {},
   "outputs": [],
   "source": [
    "RECORDS_PATH = 'batch_records.json'"
   ]
  },
  {
   "cell_type": "code",
   "execution_count": 4,
   "metadata": {},
   "outputs": [],
   "source": [
    "with open('batch_records.json', 'r') as file:\n",
    "  records = json.load(file)"
   ]
  },
  {
   "cell_type": "code",
   "execution_count": 5,
   "metadata": {},
   "outputs": [],
   "source": [
    "response = post(f'{API_PATH}/v1/performance/', json=records)\n",
    "response.close()\n",
    "performance = response.json()"
   ]
  },
  {
   "attachments": {},
   "cell_type": "markdown",
   "metadata": {},
   "source": [
    "Obervando a resposta, a qual contém uma lista de objetos contendo o mês e seus respectivos volumetria e performance"
   ]
  },
  {
   "cell_type": "code",
   "execution_count": 6,
   "metadata": {},
   "outputs": [
    {
     "data": {
      "text/plain": [
       "[{'mes': 1, 'volumetria': 58, 'performance': 0.7292069632495165},\n",
       " {'mes': 2, 'volumetria': 55, 'performance': 0.6777003484320558},\n",
       " {'mes': 3, 'volumetria': 62, 'performance': 0.5900178253119429},\n",
       " {'mes': 4, 'volumetria': 49, 'performance': 0.6},\n",
       " {'mes': 5, 'volumetria': 67, 'performance': 0.6320754716981132},\n",
       " {'mes': 6, 'volumetria': 63, 'performance': 0.5495626822157434},\n",
       " {'mes': 7, 'volumetria': 74, 'performance': 0.7220338983050848},\n",
       " {'mes': 8, 'volumetria': 72, 'performance': 0.6877192982456141}]"
      ]
     },
     "execution_count": 6,
     "metadata": {},
     "output_type": "execute_result"
    }
   ],
   "source": [
    "performance"
   ]
  },
  {
   "attachments": {},
   "cell_type": "markdown",
   "metadata": {},
   "source": [
    "## 1.2 Aderência\n",
    "Indicando o caminho para um dataset armazenado localmente, a API irá lê-lo e utilizar o modelo pré-treinado ./app/model.pkl para escorar esta base (i.e. criar uma coluna com o score, a probabilidade do registro pertencer à classe 1 do Alvo). Depois, a API calcula a métrica de distância de distribuições de score entre a base fornecida como input da requisição e a base de ./app//datasets/credit_01/test.gz, e retornará o valor do teste estatístico e o *p-value*"
   ]
  },
  {
   "cell_type": "code",
   "execution_count": 7,
   "metadata": {},
   "outputs": [],
   "source": [
    "from requests import post"
   ]
  },
  {
   "cell_type": "code",
   "execution_count": 8,
   "metadata": {},
   "outputs": [],
   "source": [
    "# Utilizo o path dentro do container (uma vez que não estou rodando mais localmente o projeto)\n",
    "TEST_PATHS = [\n",
    "  \"/app/datasets/credit_01/train.gz\",\n",
    "  \"/app/datasets/credit_01/oot.gz\"\n",
    "]"
   ]
  },
  {
   "cell_type": "code",
   "execution_count": 9,
   "metadata": {},
   "outputs": [
    {
     "name": "stdout",
     "output_type": "stream",
     "text": [
      "/app/datasets/credit_01/train.gz {'statistic': 0.01287170180313868, 'p_value': 3.122497142551299e-05}\n",
      "/app/datasets/credit_01/oot.gz {'statistic': 0.02892321969640299, 'p_value': 8.579354347295167e-23}\n"
     ]
    }
   ],
   "source": [
    "for path in TEST_PATHS:\n",
    "  response = post(f'{API_PATH}/v1/aderencia/', json={ 'path': path })\n",
    "  response.close()\n",
    "  print(path, response.json())"
   ]
  }
 ],
 "metadata": {
  "kernelspec": {
   "display_name": ".venv",
   "language": "python",
   "name": "python3"
  },
  "language_info": {
   "codemirror_mode": {
    "name": "ipython",
    "version": 3
   },
   "file_extension": ".py",
   "mimetype": "text/x-python",
   "name": "python",
   "nbconvert_exporter": "python",
   "pygments_lexer": "ipython3",
   "version": "3.9.13"
  },
  "orig_nbformat": 4
 },
 "nbformat": 4,
 "nbformat_minor": 2
}
