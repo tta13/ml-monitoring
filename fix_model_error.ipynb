{
 "cells": [
  {
   "attachments": {},
   "cell_type": "markdown",
   "metadata": {},
   "source": [
    "# Corrigindo erro ao utilizar base de dados OOT\n",
    "Ao utilizar a base OOT estava recebendo um erro relacionado ao OneHotEncoder receber um valor o qual não tinha sido utilizado no conjunto de treino, dessa forma, realizo nesse notebook a correção e retreinamento do modelo."
   ]
  },
  {
   "cell_type": "code",
   "execution_count": 1,
   "metadata": {},
   "outputs": [],
   "source": [
    "import pickle\n",
    "import numpy as np\n",
    "import pandas as pd\n",
    "import gzip\n",
    "from sklearn.impute import SimpleImputer\n",
    "from sklearn.pipeline import Pipeline\n",
    "from sklearn.compose import ColumnTransformer, make_column_selector\n",
    "from sklearn.preprocessing import OneHotEncoder"
   ]
  },
  {
   "cell_type": "code",
   "execution_count": 2,
   "metadata": {},
   "outputs": [],
   "source": [
    "# Carregando o modelo\n",
    "with open('./app/model.pkl', 'rb') as file:\n",
    "  model = pickle.load(file)"
   ]
  },
  {
   "cell_type": "code",
   "execution_count": 3,
   "metadata": {},
   "outputs": [
    {
     "data": {
      "text/plain": [
       "[('simple_preprocessing',\n",
       "  ColumnTransformer(transformers=[('pipeline-1',\n",
       "                                   Pipeline(steps=[('num_imputer',\n",
       "                                                    SimpleImputer(strategy='median'))]),\n",
       "                                   <sklearn.compose._column_transformer.make_column_selector object at 0x000001F0B06A9910>),\n",
       "                                  ('pipeline-2',\n",
       "                                   Pipeline(steps=[('cat_imputer',\n",
       "                                                    SimpleImputer(strategy='most_frequent')),\n",
       "                                                   ('encoder', OneHotEncoder())]),\n",
       "                                   <sklearn.compose._column_transformer.make_column_selector object at 0x000001F0B06A30D0>)])),\n",
       " ('estimator',\n",
       "  DecisionTreeClassifier(max_depth=9, min_samples_leaf=0.15371419169712677,\n",
       "                         min_samples_split=0.2572078354486276))]"
      ]
     },
     "execution_count": 3,
     "metadata": {},
     "output_type": "execute_result"
    }
   ],
   "source": [
    "model.steps"
   ]
  },
  {
   "cell_type": "code",
   "execution_count": 4,
   "metadata": {},
   "outputs": [
    {
     "data": {
      "text/plain": [
       "array(['VAR2', 'IDADE', 'VAR5', 'VAR6', 'VAR7', 'VAR8', 'VAR9', 'VAR10',\n",
       "       'VAR11', 'VAR12', 'VAR14', 'VAR15', 'VAR16', 'VAR18', 'VAR19',\n",
       "       'VAR22', 'VAR24', 'VAR25', 'VAR32', 'VAR39', 'VAR40', 'VAR41',\n",
       "       'VAR42', 'VAR47', 'VAR49', 'VAR50', 'VAR51', 'VAR52', 'VAR53',\n",
       "       'VAR54', 'VAR55', 'VAR56', 'VAR57', 'VAR58', 'VAR59', 'VAR60',\n",
       "       'VAR61', 'VAR62', 'VAR63', 'VAR64', 'VAR65', 'VAR66', 'VAR67',\n",
       "       'VAR68', 'VAR69', 'VAR70', 'VAR71', 'VAR72', 'VAR73', 'VAR74',\n",
       "       'VAR75', 'VAR76', 'VAR77', 'VAR78', 'VAR79', 'VAR80', 'VAR81',\n",
       "       'VAR82', 'VAR83', 'VAR84', 'VAR85', 'VAR86', 'VAR87', 'VAR88',\n",
       "       'VAR89', 'VAR90', 'VAR91', 'VAR92', 'VAR93', 'VAR94', 'VAR95',\n",
       "       'VAR96', 'VAR97', 'VAR98', 'VAR99', 'VAR100', 'VAR101', 'VAR102',\n",
       "       'VAR103', 'VAR104', 'VAR105', 'VAR106', 'VAR107', 'VAR108',\n",
       "       'VAR109', 'VAR110', 'VAR111', 'VAR112', 'VAR113', 'VAR114',\n",
       "       'VAR115', 'VAR116', 'VAR117', 'VAR118', 'VAR119', 'VAR120',\n",
       "       'VAR121', 'VAR122', 'VAR123', 'VAR124', 'VAR125', 'VAR126',\n",
       "       'VAR127', 'VAR128', 'VAR129', 'VAR130', 'VAR131', 'VAR132',\n",
       "       'VAR133', 'VAR134', 'VAR135', 'VAR136', 'VAR137', 'VAR138',\n",
       "       'VAR139', 'VAR140', 'VAR141', 'VAR142'], dtype=object)"
      ]
     },
     "execution_count": 4,
     "metadata": {},
     "output_type": "execute_result"
    }
   ],
   "source": [
    "train_cols = model.feature_names_in_\n",
    "train_cols"
   ]
  },
  {
   "cell_type": "code",
   "execution_count": 5,
   "metadata": {},
   "outputs": [
    {
     "data": {
      "text/plain": [
       "ColumnTransformer(transformers=[('pipeline-1',\n",
       "                                 Pipeline(steps=[('num_imputer',\n",
       "                                                  SimpleImputer(strategy='median'))]),\n",
       "                                 <sklearn.compose._column_transformer.make_column_selector object at 0x000001F0D04507F0>),\n",
       "                                ('pipeline-2',\n",
       "                                 Pipeline(steps=[('cat_imputer',\n",
       "                                                  SimpleImputer(strategy='most_frequent')),\n",
       "                                                 ('encoder',\n",
       "                                                  OneHotEncoder(handle_unknown='ignore'))]),\n",
       "                                 <sklearn.compose._column_transformer.make_column_selector object at 0x000001F0D0450550>)])"
      ]
     },
     "execution_count": 5,
     "metadata": {},
     "output_type": "execute_result"
    }
   ],
   "source": [
    "# construindo novo passo de ColumnTransformer\n",
    "pipe_1 = Pipeline(steps=[(\"num_imputer\", SimpleImputer(strategy='median'))])\n",
    "pipe_2 = Pipeline(steps=[(\"cat_imputer\", SimpleImputer(strategy='most_frequent')),\n",
    "                         (\"encoder\", OneHotEncoder(handle_unknown='ignore'))])\n",
    "\n",
    "ct = ColumnTransformer([('pipeline-1', pipe_1, make_column_selector(dtype_include=np.number)),\n",
    "    ('pipeline-2', pipe_2, make_column_selector(dtype_include=object))])\n",
    "ct"
   ]
  },
  {
   "cell_type": "code",
   "execution_count": 6,
   "metadata": {},
   "outputs": [],
   "source": [
    "model.steps[0] = ('simple_preprocessing', ct)"
   ]
  },
  {
   "cell_type": "code",
   "execution_count": 7,
   "metadata": {},
   "outputs": [],
   "source": [
    "# carregando base de treinamento\n",
    "with gzip.open('D:\\\\Documentos\\\\Git\\\\Github\\\\ml-monitoring\\\\app\\\\datasets\\\\credit_01\\\\train.gz', 'r') as file:\n",
    "  train_data = pd.read_csv(file)\n",
    "\n",
    "y = train_data['TARGET']\n",
    "X = train_data[train_cols]"
   ]
  },
  {
   "cell_type": "code",
   "execution_count": 8,
   "metadata": {},
   "outputs": [
    {
     "data": {
      "text/plain": [
       "((101128, 118), (101128,))"
      ]
     },
     "execution_count": 8,
     "metadata": {},
     "output_type": "execute_result"
    }
   ],
   "source": [
    "X.shape, y.shape"
   ]
  },
  {
   "cell_type": "code",
   "execution_count": 9,
   "metadata": {},
   "outputs": [
    {
     "data": {
      "text/plain": [
       "Pipeline(steps=[('simple_preprocessing',\n",
       "                 ColumnTransformer(transformers=[('pipeline-1',\n",
       "                                                  Pipeline(steps=[('num_imputer',\n",
       "                                                                   SimpleImputer(strategy='median'))]),\n",
       "                                                  <sklearn.compose._column_transformer.make_column_selector object at 0x000001F0D04507F0>),\n",
       "                                                 ('pipeline-2',\n",
       "                                                  Pipeline(steps=[('cat_imputer',\n",
       "                                                                   SimpleImputer(strategy='most_frequent')),\n",
       "                                                                  ('encoder',\n",
       "                                                                   OneHotEncoder(handle_unknown='ignore'))]),\n",
       "                                                  <sklearn.compose._column_transformer.make_column_selector object at 0x000001F0D0450550>)])),\n",
       "                ('estimator',\n",
       "                 DecisionTreeClassifier(max_depth=9,\n",
       "                                        min_samples_leaf=0.15371419169712677,\n",
       "                                        min_samples_split=0.2572078354486276))])"
      ]
     },
     "execution_count": 9,
     "metadata": {},
     "output_type": "execute_result"
    }
   ],
   "source": [
    "model.fit(X, y)"
   ]
  },
  {
   "cell_type": "code",
   "execution_count": 10,
   "metadata": {},
   "outputs": [],
   "source": [
    "with open('./app/fixed_model.pkl', 'wb') as file:\n",
    "    pickle.dump(model, file)"
   ]
  }
 ],
 "metadata": {
  "kernelspec": {
   "display_name": ".venv",
   "language": "python",
   "name": "python3"
  },
  "language_info": {
   "codemirror_mode": {
    "name": "ipython",
    "version": 3
   },
   "file_extension": ".py",
   "mimetype": "text/x-python",
   "name": "python",
   "nbconvert_exporter": "python",
   "pygments_lexer": "ipython3",
   "version": "3.9.13"
  },
  "orig_nbformat": 4
 },
 "nbformat": 4,
 "nbformat_minor": 2
}
