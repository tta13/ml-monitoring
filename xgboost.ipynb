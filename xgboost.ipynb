{
 "cells": [
  {
   "attachments": {},
   "cell_type": "markdown",
   "metadata": {},
   "source": [
    "# XGBoost\n",
    "Usando o algoritmo XGBoost para tentar melhorar o modelo."
   ]
  },
  {
   "cell_type": "code",
   "execution_count": 1,
   "metadata": {},
   "outputs": [],
   "source": [
    "import pandas as pd\n",
    "import numpy as np\n",
    "import xgboost as xgb\n",
    "import pickle\n",
    "import gzip\n",
    "from sklearn.model_selection import GridSearchCV\n",
    "from sklearn.metrics import roc_auc_score\n",
    "from sklearn.impute import SimpleImputer\n",
    "from sklearn.pipeline import Pipeline\n",
    "from sklearn.compose import ColumnTransformer, make_column_selector\n",
    "from sklearn.preprocessing import OneHotEncoder"
   ]
  },
  {
   "attachments": {},
   "cell_type": "markdown",
   "metadata": {},
   "source": [
    "## Carregando base de dados\n",
    "Carregando dados já separados entre treino e teste"
   ]
  },
  {
   "cell_type": "code",
   "execution_count": 2,
   "metadata": {},
   "outputs": [
    {
     "name": "stderr",
     "output_type": "stream",
     "text": [
      "d:\\Documentos\\Git\\Github\\ml-monitoring\\.venv\\lib\\site-packages\\IPython\\core\\interactiveshell.py:3460: DtypeWarning: Columns (45) have mixed types.Specify dtype option on import or set low_memory=False.\n",
      "  exec(code_obj, self.user_global_ns, self.user_ns)\n"
     ]
    },
    {
     "data": {
      "text/plain": [
       "((101128, 118), (49810, 118))"
      ]
     },
     "execution_count": 2,
     "metadata": {},
     "output_type": "execute_result"
    }
   ],
   "source": [
    "with open('./app/model.pkl', 'rb') as file:\n",
    "  model = pickle.load(file)\n",
    "\n",
    "train_cols = model.feature_names_in_\n",
    "with gzip.open('D:\\\\Documentos\\\\Git\\\\Github\\\\ml-monitoring\\\\app\\\\datasets\\\\credit_01\\\\train.gz', 'r') as file:\n",
    "  train_data = pd.read_csv(file)\n",
    "with gzip.open('D:\\\\Documentos\\\\Git\\\\Github\\\\ml-monitoring\\\\app\\\\datasets\\\\credit_01\\\\test.gz', 'r') as file:\n",
    "  test_data = pd.read_csv(file)\n",
    "\n",
    "X_train, X_test, y_train, y_test = train_data[train_cols], test_data[train_cols], train_data['TARGET'], test_data['TARGET']\n",
    "X_train.shape, X_test.shape"
   ]
  },
  {
   "attachments": {},
   "cell_type": "markdown",
   "metadata": {},
   "source": [
    "# Preparando o modelo\n",
    "Passos:\n",
    "* simple_preprocessing: Mesma camada de pré-processamento utilizada no modelo dado\n",
    "* estimator: Modelo XGBoost, escolhido principalmente por sua capacidade de lidar com dados desbalanceados (como é frequentemente o caso na análise de créditos) e por sua capacidade de lidar com grandes bases de dados (novamente o caso na análise de crédito)"
   ]
  },
  {
   "attachments": {},
   "cell_type": "markdown",
   "metadata": {},
   "source": [
    "Definir o Pipeline com o passo 'simple_preprocessing' e modelo XGBoost"
   ]
  },
  {
   "cell_type": "code",
   "execution_count": 4,
   "metadata": {},
   "outputs": [],
   "source": [
    "# Construindo passo de pre-processamento\n",
    "pipe_1 = Pipeline(steps=[(\"num_imputer\", SimpleImputer(strategy='median'))])\n",
    "pipe_2 = Pipeline(steps=[(\"cat_imputer\", SimpleImputer(strategy='most_frequent')),\n",
    "                         (\"encoder\", OneHotEncoder(handle_unknown='ignore'))])\n",
    "\n",
    "preprocessor = ColumnTransformer([('pipeline-1', pipe_1, make_column_selector(dtype_include=np.number)),\n",
    "    ('pipeline-2', pipe_2, make_column_selector(dtype_include=object))])"
   ]
  },
  {
   "cell_type": "code",
   "execution_count": 5,
   "metadata": {},
   "outputs": [],
   "source": [
    "model = xgb.XGBClassifier()"
   ]
  },
  {
   "cell_type": "code",
   "execution_count": 6,
   "metadata": {},
   "outputs": [
    {
     "data": {
      "text/plain": [
       "[('simple_preprocessing',\n",
       "  ColumnTransformer(transformers=[('pipeline-1',\n",
       "                                   Pipeline(steps=[('num_imputer',\n",
       "                                                    SimpleImputer(strategy='median'))]),\n",
       "                                   <sklearn.compose._column_transformer.make_column_selector object at 0x000001CA213228E0>),\n",
       "                                  ('pipeline-2',\n",
       "                                   Pipeline(steps=[('cat_imputer',\n",
       "                                                    SimpleImputer(strategy='most_frequent')),\n",
       "                                                   ('encoder',\n",
       "                                                    OneHotEncoder(handle_unknown='ignore'))]),\n",
       "                                   <sklearn.compose._column_transformer.make_column_selector object at 0x000001CA213228B0>)])),\n",
       " ('estimator',\n",
       "  XGBClassifier(base_score=None, booster=None, callbacks=None,\n",
       "                colsample_bylevel=None, colsample_bynode=None,\n",
       "                colsample_bytree=None, early_stopping_rounds=None,\n",
       "                enable_categorical=False, eval_metric=None, feature_types=None,\n",
       "                gamma=None, gpu_id=None, grow_policy=None, importance_type=None,\n",
       "                interaction_constraints=None, learning_rate=None, max_bin=None,\n",
       "                max_cat_threshold=None, max_cat_to_onehot=None,\n",
       "                max_delta_step=None, max_depth=None, max_leaves=None,\n",
       "                min_child_weight=None, missing=nan, monotone_constraints=None,\n",
       "                n_estimators=100, n_jobs=None, num_parallel_tree=None,\n",
       "                predictor=None, random_state=None, ...))]"
      ]
     },
     "execution_count": 6,
     "metadata": {},
     "output_type": "execute_result"
    }
   ],
   "source": [
    "pipeline = Pipeline(steps=[\n",
    "    ('simple_preprocessing', preprocessor),\n",
    "    ('estimator', model)\n",
    "])\n",
    "pipeline.steps"
   ]
  },
  {
   "attachments": {},
   "cell_type": "markdown",
   "metadata": {},
   "source": [
    "## Treinamento"
   ]
  },
  {
   "cell_type": "code",
   "execution_count": 8,
   "metadata": {},
   "outputs": [
    {
     "data": {
      "text/plain": [
       "Pipeline(steps=[('simple_preprocessing',\n",
       "                 ColumnTransformer(transformers=[('pipeline-1',\n",
       "                                                  Pipeline(steps=[('num_imputer',\n",
       "                                                                   SimpleImputer(strategy='median'))]),\n",
       "                                                  <sklearn.compose._column_transformer.make_column_selector object at 0x000001CA213228E0>),\n",
       "                                                 ('pipeline-2',\n",
       "                                                  Pipeline(steps=[('cat_imputer',\n",
       "                                                                   SimpleImputer(strategy='most_frequent')),\n",
       "                                                                  ('encoder',\n",
       "                                                                   OneHotEncoder(...\n",
       "                               feature_types=None, gamma=None, gpu_id=None,\n",
       "                               grow_policy=None, importance_type=None,\n",
       "                               interaction_constraints=None, learning_rate=None,\n",
       "                               max_bin=None, max_cat_threshold=None,\n",
       "                               max_cat_to_onehot=None, max_delta_step=None,\n",
       "                               max_depth=None, max_leaves=None,\n",
       "                               min_child_weight=None, missing=nan,\n",
       "                               monotone_constraints=None, n_estimators=100,\n",
       "                               n_jobs=None, num_parallel_tree=None,\n",
       "                               predictor=None, random_state=None, ...))])"
      ]
     },
     "execution_count": 8,
     "metadata": {},
     "output_type": "execute_result"
    }
   ],
   "source": [
    "pipeline.fit(X_train, y_train)"
   ]
  },
  {
   "attachments": {},
   "cell_type": "markdown",
   "metadata": {},
   "source": [
    "## Avaliação do modelo\n",
    "\n",
    "Métricas utilizadas:\n",
    "* roc_auc_score: No geral, o roc_auc_score é uma boa métrica para usar na análise de crédito porque captura tanto a sensibilidade quanto a especificidade das previsões do modelo e fornece um único número que resume o desempenho do modelo em todos os limites de probabilidade possíveis\n",
    "* Matriz de confusão: A matriz de confusão é uma métrica de avaliação útil para usar na análise de crédito porque fornece uma análise detalhada do desempenho do modelo em termos de verdadeiro positivo (TP), verdadeiro negativo (TN), falso positivo (FP) e falso negativo (FN). Na análise de crédito, é importante entender o impacto de cada tipo de previsão no negócio do credor, bem como no do devedor. Por exemplo, na análise de crédito, uma previsão de falso positivo (FP) (ou seja, classificar um bom tomador como ruim) pode resultar em perda de receita para o credor, pois pode ser negado ao mutuário um empréstimo que ele é capaz de pagar. Por outro lado, uma previsão de falso negativo (FN) (isto é, classificar um mutuário ruim como bom) pode resultar em uma perda de receita potencial para o credor, pois pode estender um empréstimo a um mutuário que acaba inadimplente.\n",
    "\n"
   ]
  },
  {
   "cell_type": "code",
   "execution_count": 10,
   "metadata": {},
   "outputs": [],
   "source": [
    "y_pred = pipeline.predict_proba(X_test)[:, 1]\n",
    "roc_auc = roc_auc_score(y_test, y_pred)"
   ]
  },
  {
   "cell_type": "code",
   "execution_count": 11,
   "metadata": {},
   "outputs": [
    {
     "data": {
      "text/plain": [
       "0.6648705000437827"
      ]
     },
     "execution_count": 11,
     "metadata": {},
     "output_type": "execute_result"
    }
   ],
   "source": [
    "roc_auc"
   ]
  },
  {
   "cell_type": "code",
   "execution_count": 12,
   "metadata": {},
   "outputs": [],
   "source": [
    "import seaborn as sns\n",
    "\n",
    "def plot_confusion_matrix(cf_matrix):\n",
    "  group_counts = ['{0:0.0f}'.format(value) for value in\n",
    "              cf_matrix.flatten()]\n",
    "          \n",
    "  group_percentages = []\n",
    "  num_rows, _ = cf_matrix.shape\n",
    "  flat = cf_matrix.flatten()\n",
    "  for i in range(0, len(flat)):        \n",
    "      group_percentages.append('{0:.2%}'.format(flat[i]/np.sum(cf_matrix[i // num_rows])))\n",
    "  labels = [f'{count}\\n{pct}' for count, pct in\n",
    "          zip(group_counts,group_percentages)]\n",
    "  labels = np.asarray(labels).reshape(cf_matrix.shape[0], cf_matrix.shape[1])\n",
    "  ax = sns.heatmap(cf_matrix, annot=labels, cmap='Blues', fmt='')\n",
    "  ax.set_xlabel('Classes previstas')\n",
    "  ax.set_ylabel('Classes corretas')\n",
    "  return ax"
   ]
  },
  {
   "cell_type": "code",
   "execution_count": 13,
   "metadata": {},
   "outputs": [
    {
     "data": {
      "text/plain": [
       "<Axes: xlabel='Classes previstas', ylabel='Classes corretas'>"
      ]
     },
     "execution_count": 13,
     "metadata": {},
     "output_type": "execute_result"
    },
    {
     "data": {
      "image/png": "[encoded data removed]",
      "text/plain": [
       "<Figure size 640x480 with 2 Axes>"
      ]
     },
     "metadata": {},
     "output_type": "display_data"
    }
   ],
   "source": [
    "from sklearn.metrics import confusion_matrix\n",
    "plot_confusion_matrix(confusion_matrix(y_test, pipeline.predict(X_test)))"
   ]
  },
  {
   "cell_type": "code",
   "execution_count": 14,
   "metadata": {},
   "outputs": [],
   "source": [
    "with open('./app/model.pkl', 'rb') as file:\n",
    "  old_model = pickle.load(file)"
   ]
  },
  {
   "cell_type": "code",
   "execution_count": 15,
   "metadata": {},
   "outputs": [
    {
     "data": {
      "text/plain": [
       "0.6075332746684731"
      ]
     },
     "execution_count": 15,
     "metadata": {},
     "output_type": "execute_result"
    }
   ],
   "source": [
    "roc_auc_score(y_test, old_model.predict_proba(X_test)[:, 1])"
   ]
  },
  {
   "cell_type": "code",
   "execution_count": 16,
   "metadata": {},
   "outputs": [
    {
     "data": {
      "text/plain": [
       "<Axes: xlabel='Classes previstas', ylabel='Classes corretas'>"
      ]
     },
     "execution_count": 16,
     "metadata": {},
     "output_type": "execute_result"
    },
    {
     "data": {
      "image/png": "[encoded data removed]",
      "text/plain": [
       "<Figure size 640x480 with 2 Axes>"
      ]
     },
     "metadata": {},
     "output_type": "display_data"
    }
   ],
   "source": [
    "plot_confusion_matrix(confusion_matrix(y_test, old_model.predict(X_test)))"
   ]
  },
  {
   "attachments": {},
   "cell_type": "markdown",
   "metadata": {},
   "source": [
    "## Salvando modelo\n",
    "Como de fato o modelo utilizando o algoritmo XGBoost performou melhor que àquele fornecido nas métricas escolhidas para avaliação, salvamos o resultado e utilizamos na API."
   ]
  },
  {
   "cell_type": "code",
   "execution_count": null,
   "metadata": {},
   "outputs": [],
   "source": [
    "with open('./app/xgb_model.pkl', 'wb') as file:\n",
    "  pickle.dump(pipeline, file)"
   ]
  }
 ],
 "metadata": {
  "kernelspec": {
   "display_name": ".venv",
   "language": "python",
   "name": "python3"
  },
  "language_info": {
   "codemirror_mode": {
    "name": "ipython",
    "version": 3
   },
   "file_extension": ".py",
   "mimetype": "text/x-python",
   "name": "python",
   "nbconvert_exporter": "python",
   "pygments_lexer": "ipython3",
   "version": "3.9.13"
  },
  "orig_nbformat": 4
 },
 "nbformat": 4,
 "nbformat_minor": 2
}
